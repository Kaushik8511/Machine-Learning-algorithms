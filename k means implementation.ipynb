{
 "cells": [
  {
   "cell_type": "code",
   "execution_count": 3,
   "metadata": {},
   "outputs": [],
   "source": [
    "import pandas as pd\n",
    "import numpy as np\n",
    "import matplotlib.pyplot as plt"
   ]
  },
  {
   "cell_type": "code",
   "execution_count": 49,
   "metadata": {},
   "outputs": [
    {
     "data": {
      "image/png": "[encoded data removed]",
      "text/plain": [
       "<Figure size 432x288 with 1 Axes>"
      ]
     },
     "metadata": {
      "needs_background": "light"
     },
     "output_type": "display_data"
    }
   ],
   "source": [
    "X=np.array([[10,10],[9,9],[8,8],[8,7],[7,8],[1,2],[2,3],[3,4],[4,3],[3,2]])\n",
    "cens=np.array([[4,3],[3,1]])\n",
    "plt.scatter(X[:,0],X[:,1],label='data points')\n",
    "plt.scatter(cens[:,0],cens[:,1],marker='^',label='centroids')\n",
    "plt.legend()\n",
    "plt.show()"
   ]
  },
  {
   "cell_type": "code",
   "execution_count": 77,
   "metadata": {},
   "outputs": [],
   "source": [
    "m=len(X)\n",
    "k=len(cens)\n",
    "index=np.zeros(m)\n",
    "for a in range(1000):\n",
    "    for i in range(m):\n",
    "        dist=100000\n",
    "        for j in range(k):\n",
    "            d=np.sum((X[i,:]-cens[j])**2)\n",
    "            if(d<dist):\n",
    "                index[i]=j\n",
    "                dist=d\n",
    "    for j in range(k):\n",
    "        temp=np.where(index==j)\n",
    "        cens[j,:]=(np.sum(X[temp,:],axis=1)/len(temp[0])).ravel()"
   ]
  },
  {
   "cell_type": "code",
   "execution_count": 73,
   "metadata": {},
   "outputs": [
    {
     "data": {
      "image/png": "[encoded data removed]",
      "text/plain": [
       "<Figure size 432x288 with 1 Axes>"
      ]
     },
     "metadata": {
      "needs_background": "light"
     },
     "output_type": "display_data"
    }
   ],
   "source": [
    "k1=X[index==0,:]\n",
    "k2=X[index==1,:]\n",
    "plt.scatter(k1[:,0],k1[:,1],label='cluster1')\n",
    "plt.scatter(k2[:,0],k2[:,1],label='cluster2')\n",
    "plt.scatter(cens[:,0],cens[:,1],marker='^',label='centroids')\n",
    "plt.legend()\n",
    "plt.show()"
   ]
  },
  {
   "cell_type": "code",
   "execution_count": 74,
   "metadata": {},
   "outputs": [
    {
     "name": "stdout",
     "output_type": "stream",
     "text": [
      "[ 5  6 11]\n"
     ]
    }
   ],
   "source": [
    "b=np.array([[2,3],[2,4],[5,6]])\n",
    "print(np.sum(b,axis=1)).ravel())"
   ]
  }
 ],
 "metadata": {
  "kernelspec": {
   "display_name": "Python 3",
   "language": "python",
   "name": "python3"
  },
  "language_info": {
   "codemirror_mode": {
    "name": "ipython",
    "version": 3
   },
   "file_extension": ".py",
   "mimetype": "text/x-python",
   "name": "python",
   "nbconvert_exporter": "python",
   "pygments_lexer": "ipython3",
   "version": "3.7.3"
  }
 },
 "nbformat": 4,
 "nbformat_minor": 2
}
