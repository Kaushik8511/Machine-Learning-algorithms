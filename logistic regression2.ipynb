{
 "cells": [
  {
   "cell_type": "code",
   "execution_count": 396,
   "metadata": {},
   "outputs": [],
   "source": [
    "import numpy as np\n",
    "import pandas as pd\n",
    "import matplotlib.pyplot as plt\n",
    "from scipy.optimize import fmin_tnc"
   ]
  },
  {
   "cell_type": "code",
   "execution_count": 397,
   "metadata": {},
   "outputs": [
    {
     "data": {
      "image/png": "[encoded data removed]",
      "text/plain": [
       "<Figure size 576x360 with 1 Axes>"
      ]
     },
     "metadata": {
      "needs_background": "light"
     },
     "output_type": "display_data"
    }
   ],
   "source": [
    "data=pd.read_csv('ex2data2.txt',names=['score1','score2','admission'])\n",
    "pos=data[data['admission']==1]\n",
    "neg=data[data['admission']==0]\n",
    "fig,axs=plt.subplots(figsize=(8,5))\n",
    "axs.scatter(pos['score1'],pos['score2'],marker='^',s=30,c='m',label='admitted')\n",
    "axs.scatter(neg['score1'],neg['score2'],marker='D',s=30,c='k',label='not admitted')\n",
    "plt.legend()\n",
    "plt.show()\n",
    "data.insert(3,'ones',1)\n"
   ]
  },
  {
   "cell_type": "code",
   "execution_count": 398,
   "metadata": {},
   "outputs": [],
   "source": [
    "X1=data['score1']\n",
    "X2=data['score2']\n",
    "degree=5\n",
    "for i in range(1,degree):\n",
    "    for j in range(i):\n",
    "        data['F'+str(i)+str(j)]=np.power(X1,i-j)*np.power(X2,j)\n",
    "data.drop('score1',axis=1,inplace=True)\n",
    "data.drop('score2',axis=1,inplace=True)"
   ]
  },
  {
   "cell_type": "code",
   "execution_count": 399,
   "metadata": {},
   "outputs": [],
   "source": [
    "def sigmoid(z):\n",
    "    return (1/(1+np.exp(-z)))"
   ]
  },
  {
   "cell_type": "code",
   "execution_count": 400,
   "metadata": {},
   "outputs": [
    {
     "name": "stdout",
     "output_type": "stream",
     "text": [
      "(118, 11) (11,) (118, 1)\n"
     ]
    }
   ],
   "source": [
    "features=np.zeros(11)\n",
    "X=data.iloc[:,1:]\n",
    "y=data.iloc[:,:1]\n",
    "X=np.array(X)\n",
    "y=np.array(y)\n",
    "lamda=9\n",
    "alpha=9\n",
    "print(X.shape,features.T.shape,y.shape)"
   ]
  },
  {
   "cell_type": "code",
   "execution_count": 401,
   "metadata": {},
   "outputs": [],
   "source": [
    "def cal_cost(X,y,features,lamda):\n",
    "    X=np.matrix(X)\n",
    "    y=np.matrix(y)\n",
    "    features=np.matrix(features)\n",
    "    m=len(X)\n",
    "    first=np.multiply(-y,np.log(sigmoid(X*features.T)))\n",
    "    second=np.multiply(y-1,np.log(1-sigmoid(X*features.T)))\n",
    "    extra=(lamda/(2*m))*np.sum(np.power(features[:,1:],2))\n",
    "    return (np.sum(first+second)/m)"
   ]
  },
  {
   "cell_type": "code",
   "execution_count": 402,
   "metadata": {},
   "outputs": [
    {
     "data": {
      "text/plain": [
       "0.6931471805599454"
      ]
     },
     "execution_count": 402,
     "metadata": {},
     "output_type": "execute_result"
    }
   ],
   "source": [
    "cost=cal_cost(X,y,features,lamda)\n",
    "cost"
   ]
  },
  {
   "cell_type": "code",
   "execution_count": 403,
   "metadata": {},
   "outputs": [],
   "source": [
    "def gradient_descent(X,y,features,alpha,iters):\n",
    "    X=np.matrix(X)\n",
    "    y=np.matrix(y)\n",
    "    features=np.matrix(features)\n",
    "    temp=np.matrix(np.zeros(features.shape))\n",
    "    para=features.ravel().shape[1]\n",
    "    cost=np.zeros(iters)        \n",
    "    for i in range(iters):\n",
    "        error=sigmoid(X*features.T)-y\n",
    "        for j in range(para):\n",
    "            temp1=np.multiply(error,X[:,j])\n",
    "            temp[0,j]=features[0,j]-(alpha/len(X))*np.sum(temp1)\n",
    "        features=temp\n",
    "        cost[i]=cal_cost(X,y,features,lamda)\n",
    "    return features,cost\n",
    "        \n",
    "        "
   ]
  },
  {
   "cell_type": "code",
   "execution_count": 404,
   "metadata": {},
   "outputs": [
    {
     "data": {
      "text/plain": [
       "matrix([[  0.38018203,  -2.79337351,  17.86678188,  -4.92336218,\n",
       "          16.62779529,  18.52619485,   7.48260625, -41.15201586,\n",
       "         -14.63614843, -47.42235269,  -1.13635981]])"
      ]
     },
     "execution_count": 404,
     "metadata": {},
     "output_type": "execute_result"
    }
   ],
   "source": [
    "\n",
    "iters=15000\n",
    "final_features,final_cost=gradient_descent(X,y,features,alpha,iters)\n",
    "final_features"
   ]
  },
  {
   "cell_type": "code",
   "execution_count": 405,
   "metadata": {},
   "outputs": [
    {
     "name": "stdout",
     "output_type": "stream",
     "text": [
      "0.43473559236810777\n"
     ]
    },
    {
     "data": {
      "image/png": "[encoded data removed]",
      "text/plain": [
       "<Figure size 432x288 with 1 Axes>"
      ]
     },
     "metadata": {
      "needs_background": "light"
     },
     "output_type": "display_data"
    }
   ],
   "source": [
    "a=np.arange(iters)\n",
    "print(final_cost[-1])\n",
    "plt.plot(a,final_cost)\n",
    "plt.show()"
   ]
  },
  {
   "cell_type": "code",
   "execution_count": 408,
   "metadata": {},
   "outputs": [
    {
     "name": "stdout",
     "output_type": "stream",
     "text": [
      "91\n"
     ]
    }
   ],
   "source": [
    "def predicted(X,features):\n",
    "    h=sigmoid(X*features.T)\n",
    "    return [1 if temp>=0.5 else 0 for temp in h]\n",
    "\n",
    "\n",
    "y_predicted=predicted(X,final_features)\n",
    "corr=[1 if (p==1 and q==1) or (p==0 and q==0) else 0 for (p,q) in zip(y_predicted,y)]\n",
    "accuracy=sum(map(int,corr))%len(corr)\n",
    "print(accuracy)"
   ]
  }
 ],
 "metadata": {
  "kernelspec": {
   "display_name": "Python 3",
   "language": "python",
   "name": "python3"
  },
  "language_info": {
   "codemirror_mode": {
    "name": "ipython",
    "version": 3
   },
   "file_extension": ".py",
   "mimetype": "text/x-python",
   "name": "python",
   "nbconvert_exporter": "python",
   "pygments_lexer": "ipython3",
   "version": "3.7.3"
  }
 },
 "nbformat": 4,
 "nbformat_minor": 2
}
